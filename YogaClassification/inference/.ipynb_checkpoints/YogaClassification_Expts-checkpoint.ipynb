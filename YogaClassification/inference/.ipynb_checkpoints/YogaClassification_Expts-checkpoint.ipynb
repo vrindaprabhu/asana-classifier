{
 "cells": [
  {
   "cell_type": "code",
   "execution_count": 1,
   "metadata": {},
   "outputs": [],
   "source": [
    "%matplotlib inline"
   ]
  },
  {
   "cell_type": "markdown",
   "metadata": {},
   "source": [
    "\n",
    "## YOGA ASANA CLASSIFICATION INFERENCE\n",
    "\n",
    "\n"
   ]
  },
  {
   "cell_type": "code",
   "execution_count": 2,
   "metadata": {},
   "outputs": [],
   "source": [
    "from __future__ import print_function, division\n",
    "\n",
    "import torch\n",
    "import torch.nn as nn\n",
    "import numpy as np\n",
    "import torchvision\n",
    "from torchvision import datasets, models, transforms\n",
    "from torch.utils.data import DataLoader\n",
    "import matplotlib.pyplot as plt\n",
    "import time\n",
    "import os\n",
    "import copy\n",
    "import glob\n",
    "from PIL import Image\n",
    "import pickle\n",
    "import seaborn as sns\n",
    "import pandas as pd\n",
    "\n",
    "plt.ion()   # interactive mode"
   ]
  },
  {
   "cell_type": "code",
   "execution_count": 3,
   "metadata": {},
   "outputs": [],
   "source": [
    "from cf_matrix import make_confusion_matrix"
   ]
  },
  {
   "cell_type": "code",
   "execution_count": 4,
   "metadata": {},
   "outputs": [],
   "source": [
    "from tqdm.notebook import tqdm"
   ]
  },
  {
   "cell_type": "markdown",
   "metadata": {},
   "source": [
    "## Dataset  \n",
    "\n",
    "There data sets for asanas are very easily available to both - web scrape and download (seggregated datasets) free to experiment and explore.  \n",
    "\n",
    "The images for the current model has been taken from an individual fellow [ML enthusiast](https://www.amarchenkova.com/2018/12/04/data-set-convolutional-neural-network-yoga-pose/) _(do check her post for some quantum computing too!)_   \n",
    "There is also a bigger dataset available [here](https://oregonstate.box.com/s/4c5o6gilogogdm9m23tgtop7vw23e9vj),which can be used to further scale the project. However, a smaller dataset has been used for a quick prototype.  "
   ]
  },
  {
   "cell_type": "code",
   "execution_count": 5,
   "metadata": {},
   "outputs": [],
   "source": [
    "device = torch.device(\"cuda:0\" if torch.cuda.is_available() else \"cpu\")"
   ]
  },
  {
   "cell_type": "code",
   "execution_count": 6,
   "metadata": {},
   "outputs": [],
   "source": [
    "class YogaInference():\n",
    "    def __init__(self, model_paths, cn_path):\n",
    "        \n",
    "        with open(cn_path,\"r\") as op:\n",
    "            self.class_names = [i.strip() for i in op.readlines()] \n",
    "            \n",
    "        self.model_ft, self.model_conv = self.load_models(*model_paths)\n",
    "        \n",
    "        self.data_transforms =  transforms.Compose([\n",
    "        transforms.Resize((512,512)),\n",
    "        transforms.ToTensor(),\n",
    "        transforms.Normalize([0.485, 0.456, 0.406], [0.229, 0.224, 0.225])])\n",
    "        \n",
    "    def load_models(self, finetune_path, conv_feature_path):\n",
    "        model_ft = models.resnet18(pretrained=True)\n",
    "        num_ftrs = model_ft.fc.in_features\n",
    "        # Here the size of each output is generalized\n",
    "        model_ft.fc = nn.Linear(num_ftrs, len(self.class_names))\n",
    "        model_ft = model_ft.to(device)\n",
    "        model_ft.load_state_dict(torch.load(finetune_path,map_location=torch.device('cpu')))\n",
    "        _ = model_ft.eval()\n",
    "        \n",
    "        \n",
    "        model_conv = torchvision.models.resnet18(pretrained=True)\n",
    "        for param in model_conv.parameters():\n",
    "            param.requires_grad = False\n",
    "\n",
    "        # Parameters of newly constructed modules have requires_grad=True by default\n",
    "        num_ftrs = model_conv.fc.in_features\n",
    "        model_conv.fc = nn.Linear(num_ftrs, len(self.class_names))\n",
    "\n",
    "        model_conv.load_state_dict(torch.load(conv_feature_path,map_location=torch.device('cpu')))\n",
    "        _ = model_conv.eval()\n",
    "\n",
    "        return model_ft, model_conv\n",
    "    \n",
    "    \n",
    "    @torch.no_grad()\n",
    "    def validate_batch(self, test_path,model=\"fine_tune\"):\n",
    "        test_dataset = datasets.ImageFolder(test_path, self.data_transforms)\n",
    "        test_dl = DataLoader(test_dataset, 4, num_workers=3, pin_memory=True)\n",
    "        \n",
    "        pred_batch_probs = []\n",
    "        actual_batch_vals = []\n",
    "        for xb, label in tqdm(test_dl):\n",
    "            if model == \"fine_tune\":\n",
    "                preds = self.model_ft(xb)\n",
    "                \n",
    "            if model == \"conv_feature\":\n",
    "                preds = self.model_conv(xb)\n",
    "                \n",
    "            pred_batch_probs.append(preds)\n",
    "            actual_batch_vals.append(label)\n",
    "        \n",
    "        pred_batch_probs = torch.cat(pred_batch_probs)\n",
    "        \n",
    "        #The below lines are to macth the validation output index with the actuals\n",
    "        actual_batch_vals = torch.cat(actual_batch_vals)\n",
    "        batch_classnames = [test_dl.dataset.classes[i] for i in actual_batch_vals]\n",
    "        actual_batch_vals = [self.class_names.index(i) for i in batch_classnames]\n",
    "        \n",
    "        return torch.tensor(actual_batch_vals), pred_batch_probs\n",
    "        \n",
    "        \n",
    "    @torch.no_grad()\n",
    "    def get_output(self, image_names, model):\n",
    "        output = None\n",
    "        for idx, image_name in enumerate(image_names):\n",
    "            image = Image.open(image_name)\n",
    "            image = self.data_transforms(image).float()\n",
    "            image = image.clone().detach()\n",
    "            image = image.unsqueeze(0)\n",
    "            if model == \"fine_tune\":\n",
    "                preds = self.model_ft(image)\n",
    "            \n",
    "            if model == \"conv_feature\":\n",
    "                preds = self.model_conv(image)\n",
    "\n",
    "            if idx == 0:\n",
    "                output = preds.numpy()\n",
    "            else:\n",
    "                output = np.vstack([output ,preds.numpy()])\n",
    "        return output\n",
    "    \n",
    "    \n",
    "    def classify_asana(self, images, model=\"fine_tune\", batch=False, raw_out=False):\n",
    "        if batch:\n",
    "            output = self.get_output(images, model)\n",
    "        else:\n",
    "            output = self.get_output([images], model)\n",
    "            \n",
    "        asanas = []\n",
    "        idx = np.argmax(output,axis=1)\n",
    "        asanas = [self.class_names[i] for i in idx]\n",
    "        \n",
    "        if raw_out:\n",
    "            return asanas, output\n",
    "        return asanas, None"
   ]
  },
  {
   "cell_type": "code",
   "execution_count": 7,
   "metadata": {},
   "outputs": [
    {
     "data": {
      "text/plain": [
       "['adhomukha_shwanasana', 'balasana', 'phalakasana', 'vrikshasana', 'tadasana']"
      ]
     },
     "execution_count": 7,
     "metadata": {},
     "output_type": "execute_result"
    }
   ],
   "source": [
    "os.listdir(\"inference_images/batch_validation/\")"
   ]
  },
  {
   "cell_type": "code",
   "execution_count": 8,
   "metadata": {},
   "outputs": [],
   "source": [
    "model_paths = [\"../models/finetuned_model.pth\", \"../models/convfeat_model.pth\"]\n",
    "classnames_path = \"../models/class_names.txt\""
   ]
  },
  {
   "cell_type": "code",
   "execution_count": 9,
   "metadata": {},
   "outputs": [],
   "source": [
    "yoga_inf = YogaInference(model_paths, classnames_path)"
   ]
  },
  {
   "cell_type": "code",
   "execution_count": 10,
   "metadata": {},
   "outputs": [],
   "source": [
    "with open(classnames_path,\"r\") as op:\n",
    "    class_names = [i.strip() for i in op.readlines()] "
   ]
  },
  {
   "cell_type": "code",
   "execution_count": 11,
   "metadata": {},
   "outputs": [],
   "source": [
    "images = glob.glob(os.path.join(\"inference_images/unseen_images/\",\"*.jpeg\"))"
   ]
  },
  {
   "cell_type": "markdown",
   "metadata": {},
   "source": [
    "#### Unknown class verification"
   ]
  },
  {
   "cell_type": "code",
   "execution_count": 12,
   "metadata": {},
   "outputs": [
    {
     "data": {
      "text/plain": [
       "(['sethu_bandhasana',\n",
       "  'tadasana',\n",
       "  'adhomukha_shwanasana',\n",
       "  'phalakasana',\n",
       "  'paschimottanasana'],\n",
       " None)"
      ]
     },
     "execution_count": 12,
     "metadata": {},
     "output_type": "execute_result"
    }
   ],
   "source": [
    "yoga_inf.classify_asana(images, model=\"fine_tune\",batch=True)"
   ]
  },
  {
   "cell_type": "code",
   "execution_count": 13,
   "metadata": {},
   "outputs": [],
   "source": [
    "def get_top_3(file_name):\n",
    "    out, predictions = yoga_inf.classify_asana(file_name, model=\"fine_tune\",batch=False, raw_out=True)\n",
    "    page = torch.nn.functional.softmax(torch.Tensor(predictions),dim=-1)\n",
    "    top_prob, top_indices = torch.topk(page,3,axis=1)\n",
    "\n",
    "    for i in range(3):\n",
    "        print (class_names[top_indices[0][i].item()],top_prob[0][i].item())"
   ]
  },
  {
   "cell_type": "code",
   "execution_count": 14,
   "metadata": {},
   "outputs": [
    {
     "name": "stdout",
     "output_type": "stream",
     "text": [
      "sethu_bandhasana 0.9932143688201904\n",
      "balasana 0.005707908421754837\n",
      "vrikshasana 0.00038166571175679564\n"
     ]
    }
   ],
   "source": [
    "get_top_3(images[0])"
   ]
  },
  {
   "cell_type": "markdown",
   "metadata": {},
   "source": [
    "#### Known class verification"
   ]
  },
  {
   "cell_type": "code",
   "execution_count": 15,
   "metadata": {},
   "outputs": [],
   "source": [
    "# #data_transforms =  transforms.Compose([\n",
    "# transforms.Resize((512,512)),\n",
    "# transforms.ToTensor(),\n",
    "# transforms.Normalize([0.485, 0.456, 0.406], [0.229, 0.224, 0.225])])\n"
   ]
  },
  {
   "cell_type": "code",
   "execution_count": 16,
   "metadata": {},
   "outputs": [],
   "source": [
    "# test_dataset = datasets.ImageFolder(\"inference_images/batch_validation/\", data_transforms)\n",
    "# test_dl = DataLoader(test_dataset, 4, num_workers=3, pin_memory=True)"
   ]
  },
  {
   "cell_type": "code",
   "execution_count": 17,
   "metadata": {},
   "outputs": [],
   "source": [
    "# test_dl.dataset.classes"
   ]
  },
  {
   "cell_type": "code",
   "execution_count": 18,
   "metadata": {},
   "outputs": [
    {
     "data": {
      "application/vnd.jupyter.widget-view+json": {
       "model_id": "8eb28491fdf84dcf8243f57571bd54d7",
       "version_major": 2,
       "version_minor": 0
      },
      "text/plain": [
       "HBox(children=(FloatProgress(value=0.0, max=80.0), HTML(value='')))"
      ]
     },
     "metadata": {},
     "output_type": "display_data"
    },
    {
     "name": "stderr",
     "output_type": "stream",
     "text": [
      "/home/beauty_health/VrindaPrabhu/01_Work/01_AI_SLS/detectron_env/lib/python3.6/site-packages/PIL/Image.py:932: UserWarning: Palette images with Transparency expressed in bytes should be converted to RGBA images\n",
      "  \"Palette images with Transparency expressed in bytes should be \"\n",
      "/home/beauty_health/VrindaPrabhu/01_Work/01_AI_SLS/detectron_env/lib/python3.6/site-packages/PIL/Image.py:932: UserWarning: Palette images with Transparency expressed in bytes should be converted to RGBA images\n",
      "  \"Palette images with Transparency expressed in bytes should be \"\n"
     ]
    },
    {
     "name": "stdout",
     "output_type": "stream",
     "text": [
      "\n"
     ]
    }
   ],
   "source": [
    "act, pred = yoga_inf.validate_batch(\"inference_images/batch_validation/\", model=\"fine_tune\")"
   ]
  },
  {
   "cell_type": "code",
   "execution_count": 27,
   "metadata": {},
   "outputs": [],
   "source": [
    "def compute_confusion_matrix(true, pred):\n",
    "    '''Computes a confusion matrix using numpy for two np.arrays\n",
    "    true and pred.\n",
    "\n",
    "    Results are identical (and similar in computation time) to: \n",
    "    \"from sklearn.metrics import confusion_matrix\"\n",
    "\n",
    "    However, this function avoids the dependency on sklearn.'''\n",
    "\n",
    "    K = len(np.unique(true)) # Number of classes \n",
    "    result = np.zeros((K, K))\n",
    "    \n",
    "    for i in range(len(true)):\n",
    "        try:\n",
    "            result[true[i]][pred[i]] += 1\n",
    "        except IndexError:\n",
    "            print (\"The predicted value is outside the true value in the batch\")\n",
    "            continue\n",
    "\n",
    "    return result"
   ]
  },
  {
   "cell_type": "code",
   "execution_count": 28,
   "metadata": {},
   "outputs": [
    {
     "name": "stdout",
     "output_type": "stream",
     "text": [
      "The predicted value is outside the true value in the batch\n",
      "The predicted value is outside the true value in the batch\n",
      "The predicted value is outside the true value in the batch\n",
      "The predicted value is outside the true value in the batch\n",
      "The predicted value is outside the true value in the batch\n",
      "The predicted value is outside the true value in the batch\n",
      "The predicted value is outside the true value in the batch\n",
      "The predicted value is outside the true value in the batch\n",
      "The predicted value is outside the true value in the batch\n",
      "The predicted value is outside the true value in the batch\n",
      "The predicted value is outside the true value in the batch\n",
      "The predicted value is outside the true value in the batch\n",
      "The predicted value is outside the true value in the batch\n",
      "The predicted value is outside the true value in the batch\n",
      "The predicted value is outside the true value in the batch\n",
      "The predicted value is outside the true value in the batch\n",
      "The predicted value is outside the true value in the batch\n",
      "The predicted value is outside the true value in the batch\n",
      "The predicted value is outside the true value in the batch\n",
      "The predicted value is outside the true value in the batch\n",
      "The predicted value is outside the true value in the batch\n",
      "The predicted value is outside the true value in the batch\n",
      "The predicted value is outside the true value in the batch\n",
      "The predicted value is outside the true value in the batch\n",
      "The predicted value is outside the true value in the batch\n",
      "The predicted value is outside the true value in the batch\n",
      "The predicted value is outside the true value in the batch\n",
      "The predicted value is outside the true value in the batch\n",
      "The predicted value is outside the true value in the batch\n",
      "The predicted value is outside the true value in the batch\n",
      "The predicted value is outside the true value in the batch\n",
      "The predicted value is outside the true value in the batch\n",
      "The predicted value is outside the true value in the batch\n",
      "The predicted value is outside the true value in the batch\n",
      "The predicted value is outside the true value in the batch\n",
      "The predicted value is outside the true value in the batch\n",
      "The predicted value is outside the true value in the batch\n",
      "The predicted value is outside the true value in the batch\n",
      "The predicted value is outside the true value in the batch\n",
      "The predicted value is outside the true value in the batch\n",
      "The predicted value is outside the true value in the batch\n",
      "The predicted value is outside the true value in the batch\n",
      "The predicted value is outside the true value in the batch\n",
      "The predicted value is outside the true value in the batch\n",
      "The predicted value is outside the true value in the batch\n",
      "The predicted value is outside the true value in the batch\n",
      "The predicted value is outside the true value in the batch\n",
      "The predicted value is outside the true value in the batch\n",
      "The predicted value is outside the true value in the batch\n",
      "The predicted value is outside the true value in the batch\n",
      "The predicted value is outside the true value in the batch\n",
      "The predicted value is outside the true value in the batch\n",
      "The predicted value is outside the true value in the batch\n",
      "The predicted value is outside the true value in the batch\n",
      "The predicted value is outside the true value in the batch\n",
      "The predicted value is outside the true value in the batch\n",
      "The predicted value is outside the true value in the batch\n",
      "The predicted value is outside the true value in the batch\n",
      "The predicted value is outside the true value in the batch\n",
      "The predicted value is outside the true value in the batch\n",
      "The predicted value is outside the true value in the batch\n",
      "The predicted value is outside the true value in the batch\n",
      "The predicted value is outside the true value in the batch\n",
      "The predicted value is outside the true value in the batch\n",
      "The predicted value is outside the true value in the batch\n",
      "The predicted value is outside the true value in the batch\n",
      "The predicted value is outside the true value in the batch\n",
      "The predicted value is outside the true value in the batch\n",
      "The predicted value is outside the true value in the batch\n",
      "The predicted value is outside the true value in the batch\n",
      "The predicted value is outside the true value in the batch\n",
      "The predicted value is outside the true value in the batch\n",
      "The predicted value is outside the true value in the batch\n",
      "The predicted value is outside the true value in the batch\n",
      "The predicted value is outside the true value in the batch\n",
      "The predicted value is outside the true value in the batch\n",
      "The predicted value is outside the true value in the batch\n",
      "The predicted value is outside the true value in the batch\n",
      "The predicted value is outside the true value in the batch\n",
      "The predicted value is outside the true value in the batch\n",
      "The predicted value is outside the true value in the batch\n",
      "The predicted value is outside the true value in the batch\n",
      "The predicted value is outside the true value in the batch\n",
      "The predicted value is outside the true value in the batch\n",
      "The predicted value is outside the true value in the batch\n",
      "The predicted value is outside the true value in the batch\n",
      "The predicted value is outside the true value in the batch\n",
      "The predicted value is outside the true value in the batch\n",
      "The predicted value is outside the true value in the batch\n",
      "The predicted value is outside the true value in the batch\n",
      "The predicted value is outside the true value in the batch\n",
      "The predicted value is outside the true value in the batch\n",
      "The predicted value is outside the true value in the batch\n",
      "The predicted value is outside the true value in the batch\n",
      "The predicted value is outside the true value in the batch\n",
      "The predicted value is outside the true value in the batch\n",
      "The predicted value is outside the true value in the batch\n",
      "The predicted value is outside the true value in the batch\n",
      "The predicted value is outside the true value in the batch\n",
      "The predicted value is outside the true value in the batch\n",
      "The predicted value is outside the true value in the batch\n",
      "The predicted value is outside the true value in the batch\n",
      "The predicted value is outside the true value in the batch\n",
      "The predicted value is outside the true value in the batch\n",
      "The predicted value is outside the true value in the batch\n",
      "The predicted value is outside the true value in the batch\n",
      "The predicted value is outside the true value in the batch\n",
      "The predicted value is outside the true value in the batch\n",
      "The predicted value is outside the true value in the batch\n",
      "The predicted value is outside the true value in the batch\n",
      "The predicted value is outside the true value in the batch\n",
      "The predicted value is outside the true value in the batch\n",
      "The predicted value is outside the true value in the batch\n",
      "The predicted value is outside the true value in the batch\n",
      "The predicted value is outside the true value in the batch\n",
      "The predicted value is outside the true value in the batch\n",
      "The predicted value is outside the true value in the batch\n",
      "The predicted value is outside the true value in the batch\n"
     ]
    }
   ],
   "source": [
    "cm = compute_confusion_matrix(act.numpy(), torch.argmax(pred, axis=1).numpy())"
   ]
  },
  {
   "cell_type": "code",
   "execution_count": 29,
   "metadata": {},
   "outputs": [
    {
     "data": {
      "text/plain": [
       "array([[70.,  0.,  0.,  0.,  0.],\n",
       "       [ 1., 65.,  5.,  0.,  1.],\n",
       "       [ 0.,  0.,  0.,  0.,  0.],\n",
       "       [ 0.,  0.,  0., 57.,  0.],\n",
       "       [ 0.,  0.,  0.,  0.,  0.]])"
      ]
     },
     "execution_count": 29,
     "metadata": {},
     "output_type": "execute_result"
    }
   ],
   "source": [
    "cm"
   ]
  },
  {
   "cell_type": "code",
   "execution_count": null,
   "metadata": {},
   "outputs": [],
   "source": [
    "categories = [class_names[i] for i in act.unique()]\n",
    "make_confusion_matrix(cm, categories=categories,figsize=(10,10))"
   ]
  },
  {
   "cell_type": "code",
   "execution_count": null,
   "metadata": {},
   "outputs": [],
   "source": [
    "def analyse_preds(error_only=True):    \n",
    "    page = torch.nn.functional.softmax(pred, dim=-1)\n",
    "    top_prob, top_indices = torch.topk(page,3,axis=1)   \n",
    "    \n",
    "    if error_only:\n",
    "        non_matched = torch.where(act!=top_indices[:,0])\n",
    "    else:\n",
    "        non_matched = list(range(len(page)))\n",
    "        \n",
    "    df = pd.DataFrame()\n",
    "    df['actuals'] = [class_names[i.item()] for i in act[non_matched]]\n",
    "    df['predicted_1'] = [class_names[i.item()] for i in top_indices[non_matched][:,0]]\n",
    "    df['probs_1'] = top_prob[non_matched][:,0]\n",
    "    \n",
    "    df['predicted_2'] = [class_names[i.item()] for i in top_indices[non_matched][:,1]]\n",
    "    df['probs_2'] = top_prob[non_matched][:,1]\n",
    "    \n",
    "    return df"
   ]
  },
  {
   "cell_type": "code",
   "execution_count": null,
   "metadata": {},
   "outputs": [],
   "source": [
    "df = analyse_preds(error_only=True)"
   ]
  },
  {
   "cell_type": "code",
   "execution_count": null,
   "metadata": {},
   "outputs": [],
   "source": [
    "df"
   ]
  },
  {
   "cell_type": "markdown",
   "metadata": {},
   "source": [
    "#### Training Plots"
   ]
  },
  {
   "cell_type": "code",
   "execution_count": null,
   "metadata": {},
   "outputs": [],
   "source": [
    "import pickle\n",
    "\n",
    "def analyse_training(pickle_path = \"fine_tune_2.pkl\"):\n",
    "    with open(\"fine_tune_2.pkl\", \"rb\") as op:\n",
    "        x = pickle.load(op)\n",
    "        \n",
    "    df = pd.DataFrame(x)\n",
    "    df.columns = ['phase', 'loss', 'accuracy']\n",
    "    \n",
    "    return df    "
   ]
  },
  {
   "cell_type": "code",
   "execution_count": null,
   "metadata": {},
   "outputs": [],
   "source": [
    "df = analyse_training(pickle_path=\"fine_tune.pkl\")"
   ]
  },
  {
   "cell_type": "code",
   "execution_count": null,
   "metadata": {},
   "outputs": [],
   "source": [
    "def plot_metadata(df, info=\"accuracy\"):\n",
    "    val_scores = df[df[\"phase\"] == \"val\"][info]\n",
    "    train_scores = df[df[\"phase\"] == \"train\"][info]\n",
    "    plt.plot(val_scores,'r', label='validation')\n",
    "    plt.plot(train_scores,'b', label='training')\n",
    "    plt.xlabel('epoch')\n",
    "    plt.ylabel(info)\n",
    "    plt.legend()\n",
    "    plt.title(info + ' vs. no. of epochs')"
   ]
  },
  {
   "cell_type": "code",
   "execution_count": null,
   "metadata": {},
   "outputs": [],
   "source": [
    "plot_metadata(df, info=\"accuracy\")"
   ]
  },
  {
   "cell_type": "code",
   "execution_count": null,
   "metadata": {},
   "outputs": [],
   "source": [
    "plot_metadata(df, info=\"loss\")"
   ]
  },
  {
   "cell_type": "code",
   "execution_count": null,
   "metadata": {},
   "outputs": [],
   "source": []
  }
 ],
 "metadata": {
  "kernelspec": {
   "display_name": "ai_sls_detectron",
   "language": "python",
   "name": "ai_sls_detectron"
  },
  "language_info": {
   "codemirror_mode": {
    "name": "ipython",
    "version": 3
   },
   "file_extension": ".py",
   "mimetype": "text/x-python",
   "name": "python",
   "nbconvert_exporter": "python",
   "pygments_lexer": "ipython3",
   "version": "3.6.10"
  }
 },
 "nbformat": 4,
 "nbformat_minor": 1
}
